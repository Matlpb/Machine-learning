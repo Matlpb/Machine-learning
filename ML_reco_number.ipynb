{
 "cells": [
  {
   "cell_type": "code",
   "execution_count": 51,
   "id": "073ada45-72dd-4022-acb2-929a1fa0fb8f",
   "metadata": {
    "tags": []
   },
   "outputs": [
    {
     "name": "stdout",
     "output_type": "stream",
     "text": [
      "Requirement already satisfied: statsmodels in /Users/Matthieu/anaconda3/lib/python3.11/site-packages (0.14.0)\n",
      "Requirement already satisfied: numpy>=1.18 in /Users/Matthieu/anaconda3/lib/python3.11/site-packages (from statsmodels) (1.24.3)\n",
      "Requirement already satisfied: scipy!=1.9.2,>=1.4 in /Users/Matthieu/anaconda3/lib/python3.11/site-packages (from statsmodels) (1.11.1)\n",
      "Requirement already satisfied: pandas>=1.0 in /Users/Matthieu/anaconda3/lib/python3.11/site-packages (from statsmodels) (2.0.3)\n",
      "Requirement already satisfied: patsy>=0.5.2 in /Users/Matthieu/anaconda3/lib/python3.11/site-packages (from statsmodels) (0.5.3)\n",
      "Requirement already satisfied: packaging>=21.3 in /Users/Matthieu/anaconda3/lib/python3.11/site-packages (from statsmodels) (23.1)\n",
      "Requirement already satisfied: python-dateutil>=2.8.2 in /Users/Matthieu/anaconda3/lib/python3.11/site-packages (from pandas>=1.0->statsmodels) (2.8.2)\n",
      "Requirement already satisfied: pytz>=2020.1 in /Users/Matthieu/anaconda3/lib/python3.11/site-packages (from pandas>=1.0->statsmodels) (2023.3.post1)\n",
      "Requirement already satisfied: tzdata>=2022.1 in /Users/Matthieu/anaconda3/lib/python3.11/site-packages (from pandas>=1.0->statsmodels) (2023.3)\n",
      "Requirement already satisfied: six in /Users/Matthieu/anaconda3/lib/python3.11/site-packages (from patsy>=0.5.2->statsmodels) (1.16.0)\n",
      "Note: you may need to restart the kernel to use updated packages.\n"
     ]
    }
   ],
   "source": [
    "pip install statsmodels\n"
   ]
  },
  {
   "cell_type": "code",
   "execution_count": 55,
   "id": "77129652-89b2-44a6-8ae2-1f8816f41a5d",
   "metadata": {
    "tags": []
   },
   "outputs": [],
   "source": [
    "import pandas as pd\n",
    "from sklearn.linear_model import SGDClassifier\n",
    "pd.options.display.max_columns = None\n",
    "import matplotlib.pyplot as plt\n",
    "import matplotlib\n",
    "from sklearn.model_selection import train_test_split\n",
    "from sklearn.linear_model import LogisticRegression\n",
    "from sklearn.metrics import accuracy_score, classification_report, confusion_matrix\n",
    "import statsmodels.api as sm\n",
    "from sklearn.ensemble import RandomForestClassifier\n",
    "\n",
    "\n"
   ]
  },
  {
   "cell_type": "code",
   "execution_count": 16,
   "id": "be0ab3ba-ad33-4c21-8efa-05f04a859195",
   "metadata": {
    "tags": []
   },
   "outputs": [],
   "source": [
    "\n",
    "train=pd.read_csv(\"/Users/Matthieu/Downloads/digit/train.csv\", delimiter=',') \n",
    "test=pd.read_csv(\"/Users/Matthieu/Downloads/digit/test.csv\", delimiter=',') \n",
    "\n",
    "\n",
    "X_TRAIN = train.copy()\n",
    "X_TEST = test.copy()\n"
   ]
  },
  {
   "cell_type": "code",
   "execution_count": 31,
   "id": "015ec28b-d3aa-4447-8be2-e3b455addd79",
   "metadata": {
    "tags": []
   },
   "outputs": [
    {
     "name": "stdout",
     "output_type": "stream",
     "text": [
      "7\n"
     ]
    }
   ],
   "source": [
    "#découpage du label du chiffre avec l image mise en vecteur\n",
    "X_train = X_TRAIN.iloc[:, 1:].values\n",
    "Y_train = X_TRAIN.iloc[:, 0].values\n",
    "\n",
    "X_test=X_TEST.iloc[:, 0:].values\n",
    "\n",
    "\n",
    "print(Y_train[6])"
   ]
  },
  {
   "cell_type": "code",
   "execution_count": 25,
   "id": "f37d761d-a1a2-466c-a8c4-2732764bd976",
   "metadata": {
    "tags": []
   },
   "outputs": [
    {
     "name": "stderr",
     "output_type": "stream",
     "text": [
      "/Users/Matthieu/anaconda3/lib/python3.11/site-packages/sklearn/linear_model/_logistic.py:460: ConvergenceWarning: lbfgs failed to converge (status=1):\n",
      "STOP: TOTAL NO. of ITERATIONS REACHED LIMIT.\n",
      "\n",
      "Increase the number of iterations (max_iter) or scale the data as shown in:\n",
      "    https://scikit-learn.org/stable/modules/preprocessing.html\n",
      "Please also refer to the documentation for alternative solver options:\n",
      "    https://scikit-learn.org/stable/modules/linear_model.html#logistic-regression\n",
      "  n_iter_i = _check_optimize_result(\n"
     ]
    }
   ],
   "source": [
    "#regression logistique\n",
    "model = LogisticRegression(max_iter=1000, solver='lbfgs', multi_class='auto')\n",
    "\n",
    "# Entraîner le modèle\n",
    "model.fit(X_train, Y_train)\n",
    "\n",
    "# Prédictions sur l'ensemble de test\n",
    "y_pred = model.predict(X_test)\n"
   ]
  },
  {
   "cell_type": "code",
   "execution_count": 45,
   "id": "66f8c703-a53e-4fb1-a5d4-b3310740e36f",
   "metadata": {
    "tags": []
   },
   "outputs": [
    {
     "name": "stdout",
     "output_type": "stream",
     "text": [
      "[1]\n"
     ]
    }
   ],
   "source": [
    "print(model.predict([X_test[200, :]]))"
   ]
  },
  {
   "cell_type": "code",
   "execution_count": 46,
   "id": "f87dc108-8fa4-4a17-9961-80f768973575",
   "metadata": {
    "tags": []
   },
   "outputs": [
    {
     "data": {
      "image/png": "[encoded data removed]",
      "text/plain": [
       "<Figure size 640x480 with 1 Axes>"
      ]
     },
     "metadata": {},
     "output_type": "display_data"
    }
   ],
   "source": [
    "# returns the image in digit (28x28)\n",
    "def getImageMatriceDigit(dataset, rowIndex):\n",
    "    return dataset.iloc[rowIndex, 0:].values.reshape(28,28)\n",
    "# returns the image matrix in one row\n",
    "def getImageLineDigit(dataset, rowIndex):\n",
    "    return dataset.iloc[rowIndex, 0:]\n",
    "\n",
    "imgDigitMatrice = getImageMatriceDigit(X_TEST, 200)\n",
    "imgDigit = getImageLineDigit(X_TEST, 200)\n",
    "plt.imshow(imgDigitMatrice, cmap=matplotlib.cm.binary, interpolation=\"nearest\")\n",
    "plt.axis(\"off\")\n",
    "plt.show()"
   ]
  },
  {
   "cell_type": "code",
   "execution_count": 49,
   "id": "a1e890e7-2ceb-4c72-91a6-1f9424661011",
   "metadata": {
    "tags": []
   },
   "outputs": [
    {
     "name": "stdout",
     "output_type": "stream",
     "text": [
      "Accuracy: 90.04%\n",
      "Classification Report:\n",
      "               precision    recall  f1-score   support\n",
      "\n",
      "           0       0.94      0.95      0.94       816\n",
      "           1       0.94      0.97      0.96       909\n",
      "           2       0.87      0.86      0.86       846\n",
      "           3       0.89      0.87      0.88       937\n",
      "           4       0.90      0.90      0.90       839\n",
      "           5       0.84      0.84      0.84       702\n",
      "           6       0.91      0.94      0.92       785\n",
      "           7       0.93      0.91      0.92       893\n",
      "           8       0.88      0.87      0.87       835\n",
      "           9       0.88      0.90      0.89       838\n",
      "\n",
      "    accuracy                           0.90      8400\n",
      "   macro avg       0.90      0.90      0.90      8400\n",
      "weighted avg       0.90      0.90      0.90      8400\n",
      "\n",
      "Confusion Matrix:\n",
      " [[772   0   2   2   1  18  15   2   3   1]\n",
      " [  0 886   9   2   1   2   1   2   5   1]\n",
      " [ 11  23 725  15  16   9  11  13  20   3]\n",
      " [  3   2  31 814   0  29   5   7  26  20]\n",
      " [  6   5  12   1 753   3  14   4   7  34]\n",
      " [ 11   3  12  28  13 587  22   1  21   4]\n",
      " [  9   2  13   1   6  13 736   0   5   0]\n",
      " [  2   5  10   9  18   2   1 815   4  27]\n",
      " [  6  11   9  28   8  24   8   5 724  12]\n",
      " [  4   4   8  10  19   9   0  26   7 751]]\n"
     ]
    },
    {
     "name": "stderr",
     "output_type": "stream",
     "text": [
      "/Users/Matthieu/anaconda3/lib/python3.11/site-packages/sklearn/linear_model/_logistic.py:460: ConvergenceWarning: lbfgs failed to converge (status=1):\n",
      "STOP: TOTAL NO. of ITERATIONS REACHED LIMIT.\n",
      "\n",
      "Increase the number of iterations (max_iter) or scale the data as shown in:\n",
      "    https://scikit-learn.org/stable/modules/preprocessing.html\n",
      "Please also refer to the documentation for alternative solver options:\n",
      "    https://scikit-learn.org/stable/modules/linear_model.html#logistic-regression\n",
      "  n_iter_i = _check_optimize_result(\n"
     ]
    },
    {
     "data": {
      "image/png": "[encoded data removed]",
      "text/plain": [
       "<Figure size 640x480 with 1 Axes>"
      ]
     },
     "metadata": {},
     "output_type": "display_data"
    },
    {
     "name": "stdout",
     "output_type": "stream",
     "text": [
      "True label: 8, Predicted label: 8\n"
     ]
    },
    {
     "data": {
      "image/png": "[encoded data removed]",
      "text/plain": [
       "<Figure size 640x480 with 1 Axes>"
      ]
     },
     "metadata": {},
     "output_type": "display_data"
    },
    {
     "name": "stdout",
     "output_type": "stream",
     "text": [
      "True label: 1, Predicted label: 1\n"
     ]
    },
    {
     "data": {
      "image/png": "[encoded data removed]",
      "text/plain": [
       "<Figure size 640x480 with 1 Axes>"
      ]
     },
     "metadata": {},
     "output_type": "display_data"
    },
    {
     "name": "stdout",
     "output_type": "stream",
     "text": [
      "True label: 9, Predicted label: 9\n"
     ]
    },
    {
     "data": {
      "image/png": "[encoded data removed]",
      "text/plain": [
       "<Figure size 640x480 with 1 Axes>"
      ]
     },
     "metadata": {},
     "output_type": "display_data"
    },
    {
     "name": "stdout",
     "output_type": "stream",
     "text": [
      "True label: 9, Predicted label: 7\n"
     ]
    },
    {
     "data": {
      "image/png": "[encoded data removed]",
      "text/plain": [
       "<Figure size 640x480 with 1 Axes>"
      ]
     },
     "metadata": {},
     "output_type": "display_data"
    },
    {
     "name": "stdout",
     "output_type": "stream",
     "text": [
      "True label: 8, Predicted label: 8\n"
     ]
    }
   ],
   "source": [
    "#évaluation des performances du modèle regression logistique\n",
    "\n",
    "X_train2, X_valid, y_train2, y_valid = train_test_split(X_train, Y_train, test_size=0.2, random_state=42)\n",
    "model = LogisticRegression(max_iter=1000, solver='lbfgs', multi_class='auto')\n",
    "\n",
    "# Entraîner le modèle\n",
    "model.fit(X_train2, y_train2)\n",
    "\n",
    "# Prédictions sur l'ensemble de validation\n",
    "y_valid_pred = model.predict(X_valid)\n",
    "\n",
    "# Évaluer le modèle\n",
    "accuracy = accuracy_score(y_valid, y_valid_pred)\n",
    "print(f\"Accuracy: {accuracy * 100:.2f}%\")\n",
    "\n",
    "# Afficher le rapport de classification\n",
    "print(\"Classification Report:\\n\", classification_report(y_valid, y_valid_pred))\n",
    "\n",
    "# Afficher la matrice de confusion\n",
    "conf_matrix = confusion_matrix(y_valid, y_valid_pred)\n",
    "print(\"Confusion Matrix:\\n\", conf_matrix)\n",
    "\n",
    "# Visualiser quelques prédictions\n",
    "def plot_digit(data):\n",
    "    image = data.reshape(28, 28)\n",
    "    plt.imshow(image, cmap=matplotlib.cm.binary, interpolation=\"nearest\")\n",
    "    plt.axis(\"off\")\n",
    "    plt.show()\n",
    "\n",
    "# Afficher quelques prédictions\n",
    "for i in range(5):\n",
    "    plot_digit(X_valid[i])\n",
    "    print(f\"True label: {y_valid[i]}, Predicted label: {y_valid_pred[i]}\")"
   ]
  },
  {
   "cell_type": "code",
   "execution_count": 56,
   "id": "2beb15f5-93e7-483c-a23e-0950aed87fce",
   "metadata": {
    "tags": []
   },
   "outputs": [
    {
     "name": "stdout",
     "output_type": "stream",
     "text": [
      "Accuracy: 96.29%\n",
      "Classification Report:\n",
      "               precision    recall  f1-score   support\n",
      "\n",
      "           0       0.98      0.98      0.98       816\n",
      "           1       0.98      0.99      0.99       909\n",
      "           2       0.96      0.96      0.96       846\n",
      "           3       0.96      0.95      0.96       937\n",
      "           4       0.96      0.97      0.96       839\n",
      "           5       0.96      0.96      0.96       702\n",
      "           6       0.96      0.98      0.97       785\n",
      "           7       0.97      0.95      0.96       893\n",
      "           8       0.95      0.95      0.95       835\n",
      "           9       0.93      0.94      0.94       838\n",
      "\n",
      "    accuracy                           0.96      8400\n",
      "   macro avg       0.96      0.96      0.96      8400\n",
      "weighted avg       0.96      0.96      0.96      8400\n",
      "\n",
      "Confusion Matrix:\n",
      " [[802   0   1   2   2   2   4   0   3   0]\n",
      " [  0 900   4   1   1   1   1   1   0   0]\n",
      " [  3   5 810   2  11   2   4   3   5   1]\n",
      " [  1   1   6 891   2  12   0   7   9   8]\n",
      " [  1   1   1   0 811   0   7   2   0  16]\n",
      " [  1   0   2   9   0 671   8   1   6   4]\n",
      " [  4   1   1   0   2   2 769   0   6   0]\n",
      " [  1   3  12   2   5   1   0 848   2  19]\n",
      " [  1   3   6   7   4   4   4   2 796   8]\n",
      " [  2   3   2  13  11   3   0   7   7 790]]\n"
     ]
    },
    {
     "data": {
      "image/png": "[encoded data removed]",
      "text/plain": [
       "<Figure size 640x480 with 1 Axes>"
      ]
     },
     "metadata": {},
     "output_type": "display_data"
    },
    {
     "name": "stdout",
     "output_type": "stream",
     "text": [
      "True label: 8, Predicted label: 8\n"
     ]
    },
    {
     "data": {
      "image/png": "[encoded data removed]",
      "text/plain": [
       "<Figure size 640x480 with 1 Axes>"
      ]
     },
     "metadata": {},
     "output_type": "display_data"
    },
    {
     "name": "stdout",
     "output_type": "stream",
     "text": [
      "True label: 1, Predicted label: 1\n"
     ]
    },
    {
     "data": {
      "image/png": "[encoded data removed]",
      "text/plain": [
       "<Figure size 640x480 with 1 Axes>"
      ]
     },
     "metadata": {},
     "output_type": "display_data"
    },
    {
     "name": "stdout",
     "output_type": "stream",
     "text": [
      "True label: 9, Predicted label: 9\n"
     ]
    },
    {
     "data": {
      "image/png": "[encoded data removed]",
      "text/plain": [
       "<Figure size 640x480 with 1 Axes>"
      ]
     },
     "metadata": {},
     "output_type": "display_data"
    },
    {
     "name": "stdout",
     "output_type": "stream",
     "text": [
      "True label: 9, Predicted label: 9\n"
     ]
    },
    {
     "data": {
      "image/png": "[encoded data removed]",
      "text/plain": [
       "<Figure size 640x480 with 1 Axes>"
      ]
     },
     "metadata": {},
     "output_type": "display_data"
    },
    {
     "name": "stdout",
     "output_type": "stream",
     "text": [
      "True label: 8, Predicted label: 8\n"
     ]
    }
   ],
   "source": [
    "#évaluation des performances du modèle foret aléatoire\n",
    "\n",
    "X_train, X_val, y_train, y_val = train_test_split(X, y, test_size=0.2, random_state=42)\n",
    "\n",
    "# Créer le modèle de forêt aléatoire\n",
    "rf_model = RandomForestClassifier(n_estimators=100, random_state=42)\n",
    "\n",
    "# Entraîner le modèle\n",
    "rf_model.fit(X_train, y_train)\n",
    "\n",
    "# Prédictions sur l'ensemble de validation\n",
    "y_val_pred = rf_model.predict(X_val)\n",
    "\n",
    "# Évaluer le modèle\n",
    "accuracy = accuracy_score(y_val, y_val_pred)\n",
    "print(f\"Accuracy: {accuracy * 100:.2f}%\")\n",
    "\n",
    "# Afficher le rapport de classification\n",
    "print(\"Classification Report:\\n\", classification_report(y_val, y_val_pred))\n",
    "\n",
    "# Afficher la matrice de confusion\n",
    "conf_matrix = confusion_matrix(y_val, y_val_pred)\n",
    "print(\"Confusion Matrix:\\n\", conf_matrix)\n",
    "\n",
    "# Visualiser quelques prédictions\n",
    "def plot_digit(data):\n",
    "    image = data.reshape(28, 28)\n",
    "    plt.imshow(image, cmap=matplotlib.cm.binary, interpolation=\"nearest\")\n",
    "    plt.axis(\"off\")\n",
    "    plt.show()\n",
    "\n",
    "# Afficher quelques prédictions\n",
    "for i in range(5):\n",
    "    plot_digit(X_val[i])\n",
    "    print(f\"True label: {y_val[i]}, Predicted label: {y_val_pred[i]}\")"
   ]
  }
 ],
 "metadata": {
  "kernelspec": {
   "display_name": "Python 3 (ipykernel)",
   "language": "python",
   "name": "python3"
  },
  "language_info": {
   "codemirror_mode": {
    "name": "ipython",
    "version": 3
   },
   "file_extension": ".py",
   "mimetype": "text/x-python",
   "name": "python",
   "nbconvert_exporter": "python",
   "pygments_lexer": "ipython3",
   "version": "3.11.5"
  }
 },
 "nbformat": 4,
 "nbformat_minor": 5
}
